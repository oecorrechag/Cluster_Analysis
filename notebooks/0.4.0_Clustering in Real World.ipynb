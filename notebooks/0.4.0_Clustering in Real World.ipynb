{
 "cells": [
  {
   "cell_type": "markdown",
   "metadata": {},
   "source": [
    "# 0.4.0 Clustering in Real World"
   ]
  },
  {
   "cell_type": "code",
   "execution_count": 1,
   "metadata": {},
   "outputs": [],
   "source": [
    "%load_ext autoreload\n",
    "%autoreload 2"
   ]
  },
  {
   "cell_type": "code",
   "execution_count": 2,
   "metadata": {},
   "outputs": [],
   "source": [
    "import pandas as pd\n",
    "import numpy as np\n",
    "\n",
    "import matplotlib.image as img\n",
    "\n",
    "pd.set_option('display.max_columns', None)\n",
    "pd.set_option('display.max_rows', None)\n",
    "import warnings\n",
    "warnings.filterwarnings(\"ignore\")"
   ]
  },
  {
   "cell_type": "code",
   "execution_count": 3,
   "metadata": {},
   "outputs": [],
   "source": [
    "import sys\n",
    "sys.path.append(\"../\") \n",
    "\n",
    "import utils.paths as path\n",
    "from utils.paths2 import direcciones"
   ]
  },
  {
   "cell_type": "markdown",
   "metadata": {},
   "source": [
    "## 0.4.2 Extract RGB values from image"
   ]
  },
  {
   "cell_type": "code",
   "execution_count": 5,
   "metadata": {},
   "outputs": [
    {
     "name": "stdout",
     "output_type": "stream",
     "text": [
      "(169, 269, 3)\n"
     ]
    }
   ],
   "source": [
    "# Read batman image and print dimensions\n",
    "batman_image = img.imread(path.data_external_dir('batman.jpg'))\n",
    "print(batman_image.shape)"
   ]
  },
  {
   "cell_type": "code",
   "execution_count": 6,
   "metadata": {},
   "outputs": [],
   "source": [
    "r = []\n",
    "g = []\n",
    "b = []\n",
    "\n",
    "# Store RGB values of all pixels in lists r, g and b\n",
    "for row in batman_image:\n",
    "    for temp_r, temp_g, temp_b in row:\n",
    "        r.append(temp_r)\n",
    "        g.append(temp_g)\n",
    "        b.append(temp_b)"
   ]
  },
  {
   "cell_type": "markdown",
   "metadata": {},
   "source": [
    "## 0.4.3 How many dominant colors?"
   ]
  },
  {
   "cell_type": "code",
   "execution_count": null,
   "metadata": {},
   "outputs": [],
   "source": []
  },
  {
   "cell_type": "code",
   "execution_count": null,
   "metadata": {},
   "outputs": [],
   "source": [
    "distortions = []\n",
    "num_clusters = range(1, 7)"
   ]
  },
  {
   "cell_type": "code",
   "execution_count": null,
   "metadata": {},
   "outputs": [],
   "source": [
    "# Create a list of distortions from the kmeans function\n",
    "for i in ____:\n",
    "    cluster_centers, distortion = ____\n",
    "    distortions.append(____)"
   ]
  },
  {
   "cell_type": "code",
   "execution_count": 8,
   "metadata": {},
   "outputs": [
    {
     "data": {
      "text/plain": [
       "array([[[37, 27, 25],\n",
       "        [36, 22, 19],\n",
       "        [48, 22, 23],\n",
       "        ...,\n",
       "        [33, 30, 49],\n",
       "        [21, 29, 52],\n",
       "        [36, 53, 71]],\n",
       "\n",
       "       [[10,  5,  2],\n",
       "        [ 9,  0,  0],\n",
       "        [15,  0,  0],\n",
       "        ...,\n",
       "        [11,  0, 17],\n",
       "        [ 4,  5, 25],\n",
       "        [22, 27, 46]],\n",
       "\n",
       "       [[ 1,  1,  0],\n",
       "        [ 4,  3,  1],\n",
       "        [12,  2,  3],\n",
       "        ...,\n",
       "        [28,  0, 12],\n",
       "        [16,  0, 15],\n",
       "        [37, 20, 36]],\n",
       "\n",
       "       ...,\n",
       "\n",
       "       [[ 0,  2,  7],\n",
       "        [ 6,  7,  9],\n",
       "        [ 5,  5,  3],\n",
       "        ...,\n",
       "        [ 6,  0,  2],\n",
       "        [ 6,  2,  3],\n",
       "        [27, 25, 26]],\n",
       "\n",
       "       [[ 0,  4,  3],\n",
       "        [ 1,  3,  0],\n",
       "        [ 0,  1,  0],\n",
       "        ...,\n",
       "        [ 7,  1,  3],\n",
       "        [ 6,  2,  3],\n",
       "        [27, 25, 26]],\n",
       "\n",
       "       [[26, 30, 29],\n",
       "        [28, 30, 27],\n",
       "        [28, 29, 21],\n",
       "        ...,\n",
       "        [32, 26, 28],\n",
       "        [18, 14, 15],\n",
       "        [51, 49, 50]]], dtype=uint8)"
      ]
     },
     "execution_count": 8,
     "metadata": {},
     "output_type": "execute_result"
    }
   ],
   "source": [
    "batman_image"
   ]
  },
  {
   "cell_type": "code",
   "execution_count": null,
   "metadata": {},
   "outputs": [],
   "source": []
  },
  {
   "cell_type": "code",
   "execution_count": null,
   "metadata": {},
   "outputs": [],
   "source": []
  },
  {
   "cell_type": "code",
   "execution_count": 46,
   "metadata": {},
   "outputs": [
    {
     "name": "stdout",
     "output_type": "stream",
     "text": [
      "ok_\n"
     ]
    }
   ],
   "source": [
    "print('ok_')"
   ]
  }
 ],
 "metadata": {
  "kernelspec": {
   "display_name": "Python 3.11.0 64-bit",
   "language": "python",
   "name": "python3"
  },
  "language_info": {
   "codemirror_mode": {
    "name": "ipython",
    "version": 3
   },
   "file_extension": ".py",
   "mimetype": "text/x-python",
   "name": "python",
   "nbconvert_exporter": "python",
   "pygments_lexer": "ipython3",
   "version": "3.11.0"
  },
  "vscode": {
   "interpreter": {
    "hash": "5238573367df39f7286bb46f9ff5f08f63a01a80960060ce41e3c79b190280fa"
   }
  }
 },
 "nbformat": 4,
 "nbformat_minor": 2
}
